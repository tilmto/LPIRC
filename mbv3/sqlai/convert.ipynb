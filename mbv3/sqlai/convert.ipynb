{
 "cells": [
  {
   "cell_type": "code",
   "execution_count": 1,
   "metadata": {},
   "outputs": [],
   "source": [
    "import torch\n",
    "from mobilenetv3_pytorch import MobileNetV3_Small"
   ]
  },
  {
   "cell_type": "code",
   "execution_count": 2,
   "metadata": {},
   "outputs": [],
   "source": [
    "net = MobileNetV3_Small()\n",
    "pretrained_model = torch.load('mbv3_small.pth.tar')"
   ]
  },
  {
   "cell_type": "code",
   "execution_count": 3,
   "metadata": {},
   "outputs": [],
   "source": [
    "state_dict = pretrained_model['state_dict']"
   ]
  },
  {
   "cell_type": "code",
   "execution_count": 4,
   "metadata": {},
   "outputs": [
    {
     "name": "stdout",
     "output_type": "stream",
     "text": [
      "['conv1.weight', 'bn1.weight', 'bn1.bias', 'bn1.running_mean', 'bn1.running_var', 'bn1.num_batches_tracked', 'bneck.0.se.se.1.weight', 'bneck.0.se.se.2.weight', 'bneck.0.se.se.2.bias', 'bneck.0.se.se.2.running_mean', 'bneck.0.se.se.2.running_var', 'bneck.0.se.se.2.num_batches_tracked', 'bneck.0.se.se.4.weight', 'bneck.0.se.se.5.weight', 'bneck.0.se.se.5.bias', 'bneck.0.se.se.5.running_mean', 'bneck.0.se.se.5.running_var', 'bneck.0.se.se.5.num_batches_tracked', 'bneck.0.conv1.weight', 'bneck.0.bn1.weight', 'bneck.0.bn1.bias', 'bneck.0.bn1.running_mean', 'bneck.0.bn1.running_var', 'bneck.0.bn1.num_batches_tracked', 'bneck.0.conv2.weight', 'bneck.0.bn2.weight', 'bneck.0.bn2.bias', 'bneck.0.bn2.running_mean', 'bneck.0.bn2.running_var', 'bneck.0.bn2.num_batches_tracked', 'bneck.0.conv3.weight', 'bneck.0.bn3.weight', 'bneck.0.bn3.bias', 'bneck.0.bn3.running_mean', 'bneck.0.bn3.running_var', 'bneck.0.bn3.num_batches_tracked', 'bneck.1.conv1.weight', 'bneck.1.bn1.weight', 'bneck.1.bn1.bias', 'bneck.1.bn1.running_mean', 'bneck.1.bn1.running_var', 'bneck.1.bn1.num_batches_tracked', 'bneck.1.conv2.weight', 'bneck.1.bn2.weight', 'bneck.1.bn2.bias', 'bneck.1.bn2.running_mean', 'bneck.1.bn2.running_var', 'bneck.1.bn2.num_batches_tracked', 'bneck.1.conv3.weight', 'bneck.1.bn3.weight', 'bneck.1.bn3.bias', 'bneck.1.bn3.running_mean', 'bneck.1.bn3.running_var', 'bneck.1.bn3.num_batches_tracked', 'bneck.2.conv1.weight', 'bneck.2.bn1.weight', 'bneck.2.bn1.bias', 'bneck.2.bn1.running_mean', 'bneck.2.bn1.running_var', 'bneck.2.bn1.num_batches_tracked', 'bneck.2.conv2.weight', 'bneck.2.bn2.weight', 'bneck.2.bn2.bias', 'bneck.2.bn2.running_mean', 'bneck.2.bn2.running_var', 'bneck.2.bn2.num_batches_tracked', 'bneck.2.conv3.weight', 'bneck.2.bn3.weight', 'bneck.2.bn3.bias', 'bneck.2.bn3.running_mean', 'bneck.2.bn3.running_var', 'bneck.2.bn3.num_batches_tracked', 'bneck.3.se.se.1.weight', 'bneck.3.se.se.2.weight', 'bneck.3.se.se.2.bias', 'bneck.3.se.se.2.running_mean', 'bneck.3.se.se.2.running_var', 'bneck.3.se.se.2.num_batches_tracked', 'bneck.3.se.se.4.weight', 'bneck.3.se.se.5.weight', 'bneck.3.se.se.5.bias', 'bneck.3.se.se.5.running_mean', 'bneck.3.se.se.5.running_var', 'bneck.3.se.se.5.num_batches_tracked', 'bneck.3.conv1.weight', 'bneck.3.bn1.weight', 'bneck.3.bn1.bias', 'bneck.3.bn1.running_mean', 'bneck.3.bn1.running_var', 'bneck.3.bn1.num_batches_tracked', 'bneck.3.conv2.weight', 'bneck.3.bn2.weight', 'bneck.3.bn2.bias', 'bneck.3.bn2.running_mean', 'bneck.3.bn2.running_var', 'bneck.3.bn2.num_batches_tracked', 'bneck.3.conv3.weight', 'bneck.3.bn3.weight', 'bneck.3.bn3.bias', 'bneck.3.bn3.running_mean', 'bneck.3.bn3.running_var', 'bneck.3.bn3.num_batches_tracked', 'bneck.4.se.se.1.weight', 'bneck.4.se.se.2.weight', 'bneck.4.se.se.2.bias', 'bneck.4.se.se.2.running_mean', 'bneck.4.se.se.2.running_var', 'bneck.4.se.se.2.num_batches_tracked', 'bneck.4.se.se.4.weight', 'bneck.4.se.se.5.weight', 'bneck.4.se.se.5.bias', 'bneck.4.se.se.5.running_mean', 'bneck.4.se.se.5.running_var', 'bneck.4.se.se.5.num_batches_tracked', 'bneck.4.conv1.weight', 'bneck.4.bn1.weight', 'bneck.4.bn1.bias', 'bneck.4.bn1.running_mean', 'bneck.4.bn1.running_var', 'bneck.4.bn1.num_batches_tracked', 'bneck.4.conv2.weight', 'bneck.4.bn2.weight', 'bneck.4.bn2.bias', 'bneck.4.bn2.running_mean', 'bneck.4.bn2.running_var', 'bneck.4.bn2.num_batches_tracked', 'bneck.4.conv3.weight', 'bneck.4.bn3.weight', 'bneck.4.bn3.bias', 'bneck.4.bn3.running_mean', 'bneck.4.bn3.running_var', 'bneck.4.bn3.num_batches_tracked', 'bneck.5.se.se.1.weight', 'bneck.5.se.se.2.weight', 'bneck.5.se.se.2.bias', 'bneck.5.se.se.2.running_mean', 'bneck.5.se.se.2.running_var', 'bneck.5.se.se.2.num_batches_tracked', 'bneck.5.se.se.4.weight', 'bneck.5.se.se.5.weight', 'bneck.5.se.se.5.bias', 'bneck.5.se.se.5.running_mean', 'bneck.5.se.se.5.running_var', 'bneck.5.se.se.5.num_batches_tracked', 'bneck.5.conv1.weight', 'bneck.5.bn1.weight', 'bneck.5.bn1.bias', 'bneck.5.bn1.running_mean', 'bneck.5.bn1.running_var', 'bneck.5.bn1.num_batches_tracked', 'bneck.5.conv2.weight', 'bneck.5.bn2.weight', 'bneck.5.bn2.bias', 'bneck.5.bn2.running_mean', 'bneck.5.bn2.running_var', 'bneck.5.bn2.num_batches_tracked', 'bneck.5.conv3.weight', 'bneck.5.bn3.weight', 'bneck.5.bn3.bias', 'bneck.5.bn3.running_mean', 'bneck.5.bn3.running_var', 'bneck.5.bn3.num_batches_tracked', 'bneck.6.se.se.1.weight', 'bneck.6.se.se.2.weight', 'bneck.6.se.se.2.bias', 'bneck.6.se.se.2.running_mean', 'bneck.6.se.se.2.running_var', 'bneck.6.se.se.2.num_batches_tracked', 'bneck.6.se.se.4.weight', 'bneck.6.se.se.5.weight', 'bneck.6.se.se.5.bias', 'bneck.6.se.se.5.running_mean', 'bneck.6.se.se.5.running_var', 'bneck.6.se.se.5.num_batches_tracked', 'bneck.6.conv1.weight', 'bneck.6.bn1.weight', 'bneck.6.bn1.bias', 'bneck.6.bn1.running_mean', 'bneck.6.bn1.running_var', 'bneck.6.bn1.num_batches_tracked', 'bneck.6.conv2.weight', 'bneck.6.bn2.weight', 'bneck.6.bn2.bias', 'bneck.6.bn2.running_mean', 'bneck.6.bn2.running_var', 'bneck.6.bn2.num_batches_tracked', 'bneck.6.conv3.weight', 'bneck.6.bn3.weight', 'bneck.6.bn3.bias', 'bneck.6.bn3.running_mean', 'bneck.6.bn3.running_var', 'bneck.6.bn3.num_batches_tracked', 'bneck.6.shortcut.0.weight', 'bneck.6.shortcut.1.weight', 'bneck.6.shortcut.1.bias', 'bneck.6.shortcut.1.running_mean', 'bneck.6.shortcut.1.running_var', 'bneck.6.shortcut.1.num_batches_tracked', 'bneck.7.se.se.1.weight', 'bneck.7.se.se.2.weight', 'bneck.7.se.se.2.bias', 'bneck.7.se.se.2.running_mean', 'bneck.7.se.se.2.running_var', 'bneck.7.se.se.2.num_batches_tracked', 'bneck.7.se.se.4.weight', 'bneck.7.se.se.5.weight', 'bneck.7.se.se.5.bias', 'bneck.7.se.se.5.running_mean', 'bneck.7.se.se.5.running_var', 'bneck.7.se.se.5.num_batches_tracked', 'bneck.7.conv1.weight', 'bneck.7.bn1.weight', 'bneck.7.bn1.bias', 'bneck.7.bn1.running_mean', 'bneck.7.bn1.running_var', 'bneck.7.bn1.num_batches_tracked', 'bneck.7.conv2.weight', 'bneck.7.bn2.weight', 'bneck.7.bn2.bias', 'bneck.7.bn2.running_mean', 'bneck.7.bn2.running_var', 'bneck.7.bn2.num_batches_tracked', 'bneck.7.conv3.weight', 'bneck.7.bn3.weight', 'bneck.7.bn3.bias', 'bneck.7.bn3.running_mean', 'bneck.7.bn3.running_var', 'bneck.7.bn3.num_batches_tracked', 'bneck.8.se.se.1.weight', 'bneck.8.se.se.2.weight', 'bneck.8.se.se.2.bias', 'bneck.8.se.se.2.running_mean', 'bneck.8.se.se.2.running_var', 'bneck.8.se.se.2.num_batches_tracked', 'bneck.8.se.se.4.weight', 'bneck.8.se.se.5.weight', 'bneck.8.se.se.5.bias', 'bneck.8.se.se.5.running_mean', 'bneck.8.se.se.5.running_var', 'bneck.8.se.se.5.num_batches_tracked', 'bneck.8.conv1.weight', 'bneck.8.bn1.weight', 'bneck.8.bn1.bias', 'bneck.8.bn1.running_mean', 'bneck.8.bn1.running_var', 'bneck.8.bn1.num_batches_tracked', 'bneck.8.conv2.weight', 'bneck.8.bn2.weight', 'bneck.8.bn2.bias', 'bneck.8.bn2.running_mean', 'bneck.8.bn2.running_var', 'bneck.8.bn2.num_batches_tracked', 'bneck.8.conv3.weight', 'bneck.8.bn3.weight', 'bneck.8.bn3.bias', 'bneck.8.bn3.running_mean', 'bneck.8.bn3.running_var', 'bneck.8.bn3.num_batches_tracked', 'bneck.9.se.se.1.weight', 'bneck.9.se.se.2.weight', 'bneck.9.se.se.2.bias', 'bneck.9.se.se.2.running_mean', 'bneck.9.se.se.2.running_var', 'bneck.9.se.se.2.num_batches_tracked', 'bneck.9.se.se.4.weight', 'bneck.9.se.se.5.weight', 'bneck.9.se.se.5.bias', 'bneck.9.se.se.5.running_mean', 'bneck.9.se.se.5.running_var', 'bneck.9.se.se.5.num_batches_tracked', 'bneck.9.conv1.weight', 'bneck.9.bn1.weight', 'bneck.9.bn1.bias', 'bneck.9.bn1.running_mean', 'bneck.9.bn1.running_var', 'bneck.9.bn1.num_batches_tracked', 'bneck.9.conv2.weight', 'bneck.9.bn2.weight', 'bneck.9.bn2.bias', 'bneck.9.bn2.running_mean', 'bneck.9.bn2.running_var', 'bneck.9.bn2.num_batches_tracked', 'bneck.9.conv3.weight', 'bneck.9.bn3.weight', 'bneck.9.bn3.bias', 'bneck.9.bn3.running_mean', 'bneck.9.bn3.running_var', 'bneck.9.bn3.num_batches_tracked', 'bneck.10.se.se.1.weight', 'bneck.10.se.se.2.weight', 'bneck.10.se.se.2.bias', 'bneck.10.se.se.2.running_mean', 'bneck.10.se.se.2.running_var', 'bneck.10.se.se.2.num_batches_tracked', 'bneck.10.se.se.4.weight', 'bneck.10.se.se.5.weight', 'bneck.10.se.se.5.bias', 'bneck.10.se.se.5.running_mean', 'bneck.10.se.se.5.running_var', 'bneck.10.se.se.5.num_batches_tracked', 'bneck.10.conv1.weight', 'bneck.10.bn1.weight', 'bneck.10.bn1.bias', 'bneck.10.bn1.running_mean', 'bneck.10.bn1.running_var', 'bneck.10.bn1.num_batches_tracked', 'bneck.10.conv2.weight', 'bneck.10.bn2.weight', 'bneck.10.bn2.bias', 'bneck.10.bn2.running_mean', 'bneck.10.bn2.running_var', 'bneck.10.bn2.num_batches_tracked', 'bneck.10.conv3.weight', 'bneck.10.bn3.weight', 'bneck.10.bn3.bias', 'bneck.10.bn3.running_mean', 'bneck.10.bn3.running_var', 'bneck.10.bn3.num_batches_tracked', 'conv2.weight', 'bn2.weight', 'bn2.bias', 'bn2.running_mean', 'bn2.running_var', 'bn2.num_batches_tracked', 'linear3.weight', 'linear3.bias', 'bn3.weight', 'bn3.bias', 'bn3.running_mean', 'bn3.running_var', 'bn3.num_batches_tracked', 'linear4.weight', 'linear4.bias']\n"
     ]
    }
   ],
   "source": [
    "names = list(state_dict.keys())\n",
    "for i in range(len(names)):\n",
    "    if names[i].find('module')!=-1:\n",
    "        names[i] = names[i][7:]\n",
    "print(names)\n",
    "    "
   ]
  },
  {
   "cell_type": "code",
   "execution_count": 5,
   "metadata": {},
   "outputs": [
    {
     "data": {
      "text/plain": [
       "collections.OrderedDict"
      ]
     },
     "execution_count": 5,
     "metadata": {},
     "output_type": "execute_result"
    }
   ],
   "source": [
    "type(state_dict)"
   ]
  },
  {
   "cell_type": "code",
   "execution_count": 6,
   "metadata": {},
   "outputs": [],
   "source": [
    "import collections\n",
    "state_dict_new = collections.OrderedDict()\n",
    "for key in names:\n",
    "    state_dict_new[key] = state_dict['module.'+key]"
   ]
  },
  {
   "cell_type": "code",
   "execution_count": 8,
   "metadata": {},
   "outputs": [],
   "source": [
    "net.load_state_dict(state_dict_new)\n",
    "torch.save(net,'mbv3_small.pth')"
   ]
  },
  {
   "cell_type": "code",
   "execution_count": null,
   "metadata": {},
   "outputs": [],
   "source": []
  }
 ],
 "metadata": {
  "kernelspec": {
   "display_name": "Python 3",
   "language": "python",
   "name": "python3"
  },
  "language_info": {
   "codemirror_mode": {
    "name": "ipython",
    "version": 3
   },
   "file_extension": ".py",
   "mimetype": "text/x-python",
   "name": "python",
   "nbconvert_exporter": "python",
   "pygments_lexer": "ipython3",
   "version": "3.6.8"
  }
 },
 "nbformat": 4,
 "nbformat_minor": 2
}
